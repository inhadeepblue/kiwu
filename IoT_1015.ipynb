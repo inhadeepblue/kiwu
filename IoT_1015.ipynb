{
  "nbformat": 4,
  "nbformat_minor": 0,
  "metadata": {
    "colab": {
      "provenance": []
    },
    "kernelspec": {
      "name": "python3",
      "display_name": "Python 3"
    },
    "language_info": {
      "name": "python"
    }
  },
  "cells": [
    {
      "cell_type": "code",
      "execution_count": 1,
      "metadata": {
        "colab": {
          "base_uri": "https://localhost:8080/"
        },
        "id": "qF_aVynGVvPG",
        "outputId": "def724ba-f578-4f20-dd1a-5f313fc75e94"
      },
      "outputs": [
        {
          "output_type": "stream",
          "name": "stdout",
          "text": [
            "pip 24.1.2 from /usr/local/lib/python3.12/dist-packages/pip (python 3.12)\n"
          ]
        }
      ],
      "source": [
        "!pip --version"
      ]
    },
    {
      "cell_type": "code",
      "source": [
        "import numpy as np\n",
        "import pandas as pd\n",
        "\n",
        "l1 = [1,2,'3',4.1]   # 리스트는 한 배열안에 다양한 자료형 가능\n",
        "print(l1, type(l1))   # print(l1, type(l1))\n",
        "\n",
        "# 넘파이 리스트 쓰면 배열 연산이 파이썬 리스트보다 훨씬 빠름 -> 빠른 연산 속도\n",
        "a1 = np.array([1,2,3,4])   # 넘파이 배열 안에 자료형 다른거 쓰면 우선순위 높은애로 다 바뀜\n",
        "print(a1)\n",
        "\n",
        "a2 = np.array(l1)\n",
        "print(a2, type(a2))     # ['1' '2' '3' '4.1'] <class 'numpy.ndarray'>\n",
        "\n",
        "a3 = np.ones(2, dtype=np.int64)\n",
        "print(a3, type(a3), a3.shape)     # [1 1] <class 'numpy.ndarray'> (2,)\n",
        "\n",
        "a4 = np.zeros(5, dtype=np.int64)\n",
        "print(a4, type(a4), a4.shape)     # [0 0 0 0 0] <class 'numpy.ndarray'> (5,)\n",
        "\n",
        "# shape 같은 애들은 넘파이 속성\n",
        "# zeros, ones 같은 애들은 함수"
      ],
      "metadata": {
        "colab": {
          "base_uri": "https://localhost:8080/"
        },
        "id": "AeoA0fkKV1QM",
        "outputId": "c7262ad8-3396-4303-ef2f-98558fc1157e"
      },
      "execution_count": 11,
      "outputs": [
        {
          "output_type": "stream",
          "name": "stdout",
          "text": [
            "[1, 2, '3', 4.1] <class 'list'>\n",
            "[1 2 3 4]\n",
            "['1' '2' '3' '4.1'] <class 'numpy.ndarray'>\n",
            "[1 1] <class 'numpy.ndarray'> (2,)\n",
            "[0 0 0 0 0] <class 'numpy.ndarray'> (5,)\n"
          ]
        }
      ]
    }
  ]
}