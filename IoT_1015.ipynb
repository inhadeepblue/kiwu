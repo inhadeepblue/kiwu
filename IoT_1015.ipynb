{
  "nbformat": 4,
  "nbformat_minor": 0,
  "metadata": {
    "colab": {
      "provenance": []
    },
    "kernelspec": {
      "name": "python3",
      "display_name": "Python 3"
    },
    "language_info": {
      "name": "python"
    }
  },
  "cells": [
    {
      "cell_type": "code",
      "execution_count": 1,
      "metadata": {
        "colab": {
          "base_uri": "https://localhost:8080/"
        },
        "id": "qF_aVynGVvPG",
        "outputId": "def724ba-f578-4f20-dd1a-5f313fc75e94"
      },
      "outputs": [
        {
          "output_type": "stream",
          "name": "stdout",
          "text": [
            "pip 24.1.2 from /usr/local/lib/python3.12/dist-packages/pip (python 3.12)\n"
          ]
        }
      ],
      "source": [
        "!pip --version"
      ]
    },
    {
      "cell_type": "code",
      "source": [
        "import numpy as np\n",
        "import pandas as pd\n",
        "\n",
        "l1 = [1,2,'3',4.1]   # 리스트는 한 배열안에 다양한 자료형 가능\n",
        "print(l1, type(l1))   # print(l1, type(l1))\n",
        "\n",
        "# 넘파이 리스트 쓰면 배열 연산이 파이썬 리스트보다 훨씬 빠름 -> 빠른 연산 속도\n",
        "a1 = np.array([1,2,3,4])   # 넘파이 배열 안에 자료형 다른거 쓰면 우선순위 높은애로 다 바뀜\n",
        "print(a1)\n",
        "\n",
        "a2 = np.array(l1)\n",
        "print(a2, type(a2))     # ['1' '2' '3' '4.1'] <class 'numpy.ndarray'>\n",
        "\n",
        "a3 = np.ones(2, dtype=np.int64)\n",
        "print(a3, type(a3), a3.shape)     # [1 1] <class 'numpy.ndarray'> (2,)\n",
        "\n",
        "a4 = np.zeros(5, dtype=np.int64)\n",
        "print(a4, type(a4), a4.shape)     # [0 0 0 0 0] <class 'numpy.ndarray'> (5,)\n",
        "\n",
        "# shape 같은 애들은 넘파이 속성\n",
        "# zeros, ones 같은 애들은 함수"
      ],
      "metadata": {
        "colab": {
          "base_uri": "https://localhost:8080/"
        },
        "id": "AeoA0fkKV1QM",
        "outputId": "c7262ad8-3396-4303-ef2f-98558fc1157e"
      },
      "execution_count": 11,
      "outputs": [
        {
          "output_type": "stream",
          "name": "stdout",
          "text": [
            "[1, 2, '3', 4.1] <class 'list'>\n",
            "[1 2 3 4]\n",
            "['1' '2' '3' '4.1'] <class 'numpy.ndarray'>\n",
            "[1 1] <class 'numpy.ndarray'> (2,)\n",
            "[0 0 0 0 0] <class 'numpy.ndarray'> (5,)\n"
          ]
        }
      ]
    },
    {
      "cell_type": "code",
      "source": [
        "df1 = pd.DataFrame([[10,7,91], [22,-17,4]], index=[1,2], columns=['python', 'java', 'php'])\n",
        "print(df1)\n",
        "\n",
        "df1 = df1.rename(columns={'python' : 'pyt', 'java' : 'jav', 'php' : 'php' })\n",
        "print(df1)\n",
        "\n",
        "\n",
        "# iloc 사용\n",
        "# df1.iloc[1,1] = 17\n",
        "# df1.iloc[0,2] = 19\n",
        "# print(df1)\n",
        "\n",
        "# loc 사용\n",
        "df1.loc[2, 'jav'] = 17\n",
        "df1.loc[1, 'php'] = 19\n",
        "print(df1)"
      ],
      "metadata": {
        "colab": {
          "base_uri": "https://localhost:8080/"
        },
        "id": "gDor5T2Efkue",
        "outputId": "b1bf18dd-afdc-4e3d-c6ed-367e03b5d748"
      },
      "execution_count": 22,
      "outputs": [
        {
          "output_type": "stream",
          "name": "stdout",
          "text": [
            "   python  java  php\n",
            "1      10     7   91\n",
            "2      22   -17    4\n",
            "   pyt  jav  php\n",
            "1   10    7   91\n",
            "2   22  -17    4\n",
            "-17\n",
            "   pyt  jav  php\n",
            "1   10    7   19\n",
            "2   22   17    4\n"
          ]
        }
      ]
    },
    {
      "cell_type": "code",
      "source": [
        "import seaborn as sns\n",
        "\n",
        "titanic = sns.load_dataset('titanic')\n",
        "# print(titanic.info())   # 요약\n",
        "# print(titanic.head(3))     # 위에서부터 3개. 개수 지정안해주면 기본은 5개\n",
        "# print(titanic.tail(3))     # 아래에서부터 3개\n",
        "\n",
        "print(titanic.query('age >= 70'))  # 나이가 70이상인 사람만 출력"
      ],
      "metadata": {
        "colab": {
          "base_uri": "https://localhost:8080/"
        },
        "id": "TDMdQuk3iKcW",
        "outputId": "1f44e87c-82c4-45ed-efa1-26bb89b06caa"
      },
      "execution_count": 28,
      "outputs": [
        {
          "output_type": "stream",
          "name": "stdout",
          "text": [
            "     survived  pclass   sex   age  sibsp  parch     fare embarked   class  \\\n",
            "96          0       1  male  71.0      0      0  34.6542        C   First   \n",
            "116         0       3  male  70.5      0      0   7.7500        Q   Third   \n",
            "493         0       1  male  71.0      0      0  49.5042        C   First   \n",
            "630         1       1  male  80.0      0      0  30.0000        S   First   \n",
            "672         0       2  male  70.0      0      0  10.5000        S  Second   \n",
            "745         0       1  male  70.0      1      1  71.0000        S   First   \n",
            "851         0       3  male  74.0      0      0   7.7750        S   Third   \n",
            "\n",
            "     who  adult_male deck  embark_town alive  alone  \n",
            "96   man        True    A    Cherbourg    no   True  \n",
            "116  man        True  NaN   Queenstown    no   True  \n",
            "493  man        True  NaN    Cherbourg    no   True  \n",
            "630  man        True    A  Southampton   yes   True  \n",
            "672  man        True  NaN  Southampton    no   True  \n",
            "745  man        True    B  Southampton    no  False  \n",
            "851  man        True  NaN  Southampton    no   True  \n"
          ]
        }
      ]
    }
  ]
}